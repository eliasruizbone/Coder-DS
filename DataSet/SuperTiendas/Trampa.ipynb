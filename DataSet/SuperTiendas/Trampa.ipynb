{
 "cells": [
  {
   "cell_type": "code",
   "execution_count": 3,
   "id": "1306a0fe",
   "metadata": {},
   "outputs": [
    {
     "name": "stdout",
     "output_type": "stream",
     "text": [
      "       teamId abbreviation           teamName simpleName   location\n",
      "0  1610612737          ATL      Atlanta Hawks      Hawks    Atlanta\n",
      "1  1610612738          BOS     Boston Celtics    Celtics     Boston\n",
      "2  1610612751          BKN      Brooklyn Nets       Nets   Brooklyn\n",
      "3  1610612766          CHA  Charlotte Hornets    Hornets  Charlotte\n",
      "4  1610612741          CHI      Chicago Bulls      Bulls    Chicago\n"
     ]
    }
   ],
   "source": [
    "import requests\n",
    "import json\n",
    "import pandas as pd\n",
    "\n",
    "url = 'https://raw.githubusercontent.com/bttmly/nba/master/data/teams.json'\n",
    "\n",
    "response = requests.get(url)\n",
    "\n",
    "\n",
    "if response.status_code == 200:\n",
    "    jsondata = json.loads(response.text)\n",
    "    df = pd.DataFrame.from_dict(jsondata)\n",
    "    print(df.head())\n",
    "else:\n",
    "    print(\"Error al obtener datos. Código de estado:\", response.status_code)"
   ]
  },
  {
   "cell_type": "code",
   "execution_count": null,
   "id": "cd3c4708",
   "metadata": {},
   "outputs": [],
   "source": []
  },
  {
   "cell_type": "code",
   "execution_count": null,
   "id": "5884d9b4",
   "metadata": {},
   "outputs": [],
   "source": []
  },
  {
   "cell_type": "code",
   "execution_count": null,
   "id": "9a8292a8",
   "metadata": {},
   "outputs": [],
   "source": []
  }
 ],
 "metadata": {
  "kernelspec": {
   "display_name": "Python 3 (ipykernel)",
   "language": "python",
   "name": "python3"
  },
  "language_info": {
   "codemirror_mode": {
    "name": "ipython",
    "version": 3
   },
   "file_extension": ".py",
   "mimetype": "text/x-python",
   "name": "python",
   "nbconvert_exporter": "python",
   "pygments_lexer": "ipython3",
   "version": "3.11.4"
  }
 },
 "nbformat": 4,
 "nbformat_minor": 5
}
