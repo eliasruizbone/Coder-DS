{
 "cells": [
  {
   "cell_type": "code",
   "execution_count": 34,
   "id": "4ff92618",
   "metadata": {},
   "outputs": [
    {
     "name": "stdout",
     "output_type": "stream",
     "text": [
      "   work_year experience_level employment_type                 job_title  \\\n",
      "0       2023               SE              FT  Principal Data Scientist   \n",
      "1       2023               MI              CT               ML Engineer   \n",
      "2       2023               MI              CT               ML Engineer   \n",
      "3       2023               SE              FT            Data Scientist   \n",
      "4       2023               SE              FT            Data Scientist   \n",
      "\n",
      "   salary salary_currency  salary_in_usd employee_residence  remote_ratio  \\\n",
      "0   80000             EUR          85847                 ES           100   \n",
      "1   30000             USD          30000                 US           100   \n",
      "2   25500             USD          25500                 US           100   \n",
      "3  175000             USD         175000                 CA           100   \n",
      "4  120000             USD         120000                 CA           100   \n",
      "\n",
      "  company_location company_size  \n",
      "0               ES            L  \n",
      "1               US            S  \n",
      "2               US            S  \n",
      "3               CA            M  \n",
      "4               CA            M  \n"
     ]
    }
   ],
   "source": [
    "import os\n",
    "import pandas as pd\n",
    "import numpy as np\n",
    "\n",
    "\n",
    "os.chdir('C:/Users/elias/Desktop/DataSet/DS_Salarios/')\n",
    "\n",
    "# Lee el archivo Excel\n",
    "df = pd.read_excel(\"ds_salarios.xlsx\")\n",
    "\n",
    "\n"
   ]
  },
  {
   "cell_type": "code",
   "execution_count": 16,
   "id": "efe7dd35",
   "metadata": {},
   "outputs": [
    {
     "name": "stdout",
     "output_type": "stream",
     "text": [
      "   work_year experience_level employment_type                 job_title  \\\n",
      "0       2023               SE              FT  Principal Data Scientist   \n",
      "1       2023               MI              CT               ML Engineer   \n",
      "2       2023               MI              CT               ML Engineer   \n",
      "3       2023               SE              FT            Data Scientist   \n",
      "4       2023               SE              FT            Data Scientist   \n",
      "\n",
      "   salary salary_currency  salary_in_usd employee_residence  remote_ratio  \\\n",
      "0   80000             EUR          85847                 ES           100   \n",
      "1   30000             USD          30000                 US           100   \n",
      "2   25500             USD          25500                 US           100   \n",
      "3  175000             USD         175000                 CA           100   \n",
      "4  120000             USD         120000                 CA           100   \n",
      "\n",
      "  company_location company_size  \n",
      "0               ES            L  \n",
      "1               US            S  \n",
      "2               US            S  \n",
      "3               CA            M  \n",
      "4               CA            M  \n"
     ]
    }
   ],
   "source": [
    "print(df.head())"
   ]
  },
  {
   "cell_type": "markdown",
   "id": "d50a3330",
   "metadata": {},
   "source": [
    "Analisis de sueldos Data science\n",
    "\n",
    "Analisis General:\n",
    "- Promedio Salarial es USD por año.\n",
    "- Salario promedio general.\n",
    "- Salario según el nivel de experiencia.\n",
    "- El porcentaje que representan dichos salarios.\n",
    "- Salario de acuerdo al tipo de empleo y al tamaño de la empresa.\n",
    "Analisis por pais:\n",
    "- promedio por continenten y pais\n",
    "\n",
    "Análisis por Empresa\n",
    "- Se quiere identificar si puede tener alguna influencia el tamaño de la empresa con el salario promedio\n",
    "    anual ofrecido por cada una de ellas.\n",
    "\n",
    "Experiencia vs Tipo de Empleo\n",
    "- el objetivo es comparar las diferencias que hay en el salario promedio en USD de acuerdo al nivel\n",
    "  de experiencia de los analistas.\n",
    "\n"
   ]
  },
  {
   "cell_type": "code",
   "execution_count": 17,
   "id": "7e6ae8c8",
   "metadata": {},
   "outputs": [
    {
     "name": "stdout",
     "output_type": "stream",
     "text": [
      "(3755, 11)\n"
     ]
    }
   ],
   "source": [
    "print(df.shape)\n"
   ]
  },
  {
   "cell_type": "code",
   "execution_count": 18,
   "id": "fdf72217",
   "metadata": {},
   "outputs": [
    {
     "name": "stdout",
     "output_type": "stream",
     "text": [
      "<bound method NDFrame.describe of       work_year experience_level employment_type                 job_title  \\\n",
      "0          2023               SE              FT  Principal Data Scientist   \n",
      "1          2023               MI              CT               ML Engineer   \n",
      "2          2023               MI              CT               ML Engineer   \n",
      "3          2023               SE              FT            Data Scientist   \n",
      "4          2023               SE              FT            Data Scientist   \n",
      "...         ...              ...             ...                       ...   \n",
      "3750       2020               SE              FT            Data Scientist   \n",
      "3751       2021               MI              FT  Principal Data Scientist   \n",
      "3752       2020               EN              FT            Data Scientist   \n",
      "3753       2020               EN              CT     Business Data Analyst   \n",
      "3754       2021               SE              FT      Data Science Manager   \n",
      "\n",
      "       salary salary_currency  salary_in_usd employee_residence  remote_ratio  \\\n",
      "0       80000             EUR          85847                 ES           100   \n",
      "1       30000             USD          30000                 US           100   \n",
      "2       25500             USD          25500                 US           100   \n",
      "3      175000             USD         175000                 CA           100   \n",
      "4      120000             USD         120000                 CA           100   \n",
      "...       ...             ...            ...                ...           ...   \n",
      "3750   412000             USD         412000                 US           100   \n",
      "3751   151000             USD         151000                 US           100   \n",
      "3752   105000             USD         105000                 US           100   \n",
      "3753   100000             USD         100000                 US           100   \n",
      "3754  7000000             INR          94665                 IN            50   \n",
      "\n",
      "     company_location company_size  \n",
      "0                  ES            L  \n",
      "1                  US            S  \n",
      "2                  US            S  \n",
      "3                  CA            M  \n",
      "4                  CA            M  \n",
      "...               ...          ...  \n",
      "3750               US            L  \n",
      "3751               US            L  \n",
      "3752               US            S  \n",
      "3753               US            L  \n",
      "3754               IN            L  \n",
      "\n",
      "[3755 rows x 11 columns]>\n"
     ]
    }
   ],
   "source": [
    "print(df.describe)"
   ]
  },
  {
   "cell_type": "code",
   "execution_count": 43,
   "id": "950a2567",
   "metadata": {},
   "outputs": [
    {
     "name": "stdout",
     "output_type": "stream",
     "text": [
      "0     True\n",
      "1    False\n",
      "2    False\n",
      "3     True\n",
      "4     True\n",
      "Name: salary_in_usd, dtype: bool\n",
      "   work_year experience_level employment_type                 job_title  \\\n",
      "0       2023               SE              FT  Principal Data Scientist   \n",
      "3       2023               SE              FT            Data Scientist   \n",
      "4       2023               SE              FT            Data Scientist   \n",
      "5       2023               SE              FT         Applied Scientist   \n",
      "6       2023               SE              FT         Applied Scientist   \n",
      "\n",
      "   salary salary_currency  salary_in_usd employee_residence  remote_ratio  \\\n",
      "0   80000             EUR          85847                 ES           100   \n",
      "3  175000             USD         175000                 CA           100   \n",
      "4  120000             USD         120000                 CA           100   \n",
      "5  222200             USD         222200                 US             0   \n",
      "6  136000             USD         136000                 US             0   \n",
      "\n",
      "  company_location company_size  \n",
      "0               ES            L  \n",
      "3               CA            M  \n",
      "4               CA            M  \n",
      "5               US            L  \n",
      "6               US            L  \n"
     ]
    }
   ],
   "source": [
    "sueldosMayores50usd = df['salary_in_usd'] > 50000\n",
    "print(sueldosMayores50usd.head())\n",
    "dfSM50 = df.loc[sueldosMayores50usd,:]\n",
    "print(dfSM50.head())"
   ]
  },
  {
   "cell_type": "code",
   "execution_count": null,
   "id": "f2524e0c",
   "metadata": {},
   "outputs": [],
   "source": []
  },
  {
   "cell_type": "code",
   "execution_count": null,
   "id": "47c24840",
   "metadata": {},
   "outputs": [],
   "source": []
  }
 ],
 "metadata": {
  "kernelspec": {
   "display_name": "Python 3 (ipykernel)",
   "language": "python",
   "name": "python3"
  },
  "language_info": {
   "codemirror_mode": {
    "name": "ipython",
    "version": 3
   },
   "file_extension": ".py",
   "mimetype": "text/x-python",
   "name": "python",
   "nbconvert_exporter": "python",
   "pygments_lexer": "ipython3",
   "version": "3.11.4"
  }
 },
 "nbformat": 4,
 "nbformat_minor": 5
}
