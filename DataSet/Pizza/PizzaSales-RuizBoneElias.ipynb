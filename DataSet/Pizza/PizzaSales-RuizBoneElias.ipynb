{
 "cells": [
  {
   "cell_type": "code",
   "execution_count": 2,
   "id": "47211e86",
   "metadata": {},
   "outputs": [],
   "source": [
    "import os\n",
    "import pandas as pd\n",
    "import numpy as np\n",
    "\n",
    "\n",
    "os.chdir('C:/Users/elias/Desktop/DataSet/Pizza')\n",
    "\n",
    "# Lee el archivo Excel\n",
    "df = pd.read_excel(\"PizzaSales.xlsx\")"
   ]
  },
  {
   "cell_type": "code",
   "execution_count": 4,
   "id": "8dcce1b9",
   "metadata": {},
   "outputs": [
    {
     "name": "stdout",
     "output_type": "stream",
     "text": [
      "   order_details_id  order_id       pizza_id  quantity order_date order_time  \\\n",
      "0                 1         1     hawaiian_m         1 2015-01-01   11:38:36   \n",
      "1                 2         2  classic_dlx_m         1 2015-01-01   11:57:40   \n",
      "2                 3         2  five_cheese_l         1 2015-01-01   11:57:40   \n",
      "3                 4         2    ital_supr_l         1 2015-01-01   11:57:40   \n",
      "4                 5         2     mexicana_m         1 2015-01-01   11:57:40   \n",
      "\n",
      "   unit_price  total_price pizza_size pizza_category  \\\n",
      "0       13.25        13.25          M        Classic   \n",
      "1       16.00        16.00          M        Classic   \n",
      "2       18.50        18.50          L         Veggie   \n",
      "3       20.75        20.75          L        Supreme   \n",
      "4       16.00        16.00          M         Veggie   \n",
      "\n",
      "                                   pizza_ingredients  \\\n",
      "0           Sliced Ham, Pineapple, Mozzarella Cheese   \n",
      "1  Pepperoni, Mushrooms, Red Onions, Red Peppers,...   \n",
      "2  Mozzarella Cheese, Provolone Cheese, Smoked Go...   \n",
      "3  Calabrese Salami, Capocollo, Tomatoes, Red Oni...   \n",
      "4  Tomatoes, Red Peppers, Jalapeno Peppers, Red O...   \n",
      "\n",
      "                  pizza_name  \n",
      "0         The Hawaiian Pizza  \n",
      "1   The Classic Deluxe Pizza  \n",
      "2      The Five Cheese Pizza  \n",
      "3  The Italian Supreme Pizza  \n",
      "4         The Mexicana Pizza  \n"
     ]
    }
   ],
   "source": [
    "print(df.head())"
   ]
  },
  {
   "cell_type": "markdown",
   "id": "9a7dcf6f",
   "metadata": {},
   "source": [
    "Este conjunto de datos de ventas de pizza consta de 12 características relevantes:\n",
    "\n",
    "order_id: Identificador único para cada pedido realizado por una mesa\n",
    "order_details_id: Identificador único para cada pizza colocada dentro de cada pedido (las pizzas del mismo tipo y tamaño se mantienen en la misma fila y la cantidad aumenta)\n",
    "pizza_id: identificador de clave único que vincula la pizza solicitada con sus detalles, como el tamaño y el precio.\n",
    "cantidad: Cantidad pedida para cada pizza del mismo tipo y tamaño\n",
    "order_date: fecha en que se realizó el pedido (ingresada en el sistema antes de cocinar y servir)\n",
    "order_time: hora en que se realizó el pedido (ingresado en el sistema antes de cocinarlo y servirlo)\n",
    "unit_price: Precio de la pizza en USD\n",
    "precio_total: precio_unitario * cantidad\n",
    "pizza_size: Tamaño de la pizza (Pequeña, Mediana, Grande, X Grande o XX Grande)\n",
    "pizza_type: identificador de clave único que vincula la pizza solicitada con sus detalles, como el tamaño y el precio.\n",
    "pizza_ingredients: ingredientes utilizados en la pizza como se muestra en el menú (todos incluyen Queso Mozzarella, incluso si no se especifica; y todos incluyen Salsa de Tomate, a menos que se especifique otra salsa)\n",
    "pizza_name: nombre de la pizza como se muestra en el menú"
   ]
  },
  {
   "cell_type": "code",
   "execution_count": null,
   "id": "c11afa1e",
   "metadata": {},
   "outputs": [],
   "source": [
    "¿Qué días y rango de horarios picos? ¿dias y rango de horario del pico mas bajo?\n",
    "¿cantidad de pizzas en horarios picos ? y que tipo de pizzas\n",
    "¿Cuáles son nuestras mejores y peores pizzas?\n",
    "¿Cuál es el valor promedio de nuestro pedido?\n",
    "ventas por tamaña de pizzas\n"
   ]
  },
  {
   "cell_type": "code",
   "execution_count": 5,
   "id": "111fdf32",
   "metadata": {},
   "outputs": [
    {
     "name": "stdout",
     "output_type": "stream",
     "text": [
      "<bound method NDFrame.describe of        order_details_id  order_id       pizza_id  quantity order_date  \\\n",
      "0                     1         1     hawaiian_m         1 2015-01-01   \n",
      "1                     2         2  classic_dlx_m         1 2015-01-01   \n",
      "2                     3         2  five_cheese_l         1 2015-01-01   \n",
      "3                     4         2    ital_supr_l         1 2015-01-01   \n",
      "4                     5         2     mexicana_m         1 2015-01-01   \n",
      "...                 ...       ...            ...       ...        ...   \n",
      "48615             48616     21348  ckn_alfredo_m         1 2015-12-31   \n",
      "48616             48617     21348  four_cheese_l         1 2015-12-31   \n",
      "48617             48618     21348   napolitana_s         1 2015-12-31   \n",
      "48618             48619     21349     mexicana_l         1 2015-12-31   \n",
      "48619             48620     21350      bbq_ckn_s         1 2015-12-31   \n",
      "\n",
      "      order_time  unit_price  total_price pizza_size pizza_category  \\\n",
      "0       11:38:36       13.25        13.25          M        Classic   \n",
      "1       11:57:40       16.00        16.00          M        Classic   \n",
      "2       11:57:40       18.50        18.50          L         Veggie   \n",
      "3       11:57:40       20.75        20.75          L        Supreme   \n",
      "4       11:57:40       16.00        16.00          M         Veggie   \n",
      "...          ...         ...          ...        ...            ...   \n",
      "48615   21:23:10       16.75        16.75          M        Chicken   \n",
      "48616   21:23:10       17.95        17.95          L         Veggie   \n",
      "48617   21:23:10       12.00        12.00          S        Classic   \n",
      "48618   22:09:54       20.25        20.25          L         Veggie   \n",
      "48619   23:02:05       12.75        12.75          S        Chicken   \n",
      "\n",
      "                                       pizza_ingredients  \\\n",
      "0               Sliced Ham, Pineapple, Mozzarella Cheese   \n",
      "1      Pepperoni, Mushrooms, Red Onions, Red Peppers,...   \n",
      "2      Mozzarella Cheese, Provolone Cheese, Smoked Go...   \n",
      "3      Calabrese Salami, Capocollo, Tomatoes, Red Oni...   \n",
      "4      Tomatoes, Red Peppers, Jalapeno Peppers, Red O...   \n",
      "...                                                  ...   \n",
      "48615  Chicken, Red Onions, Red Peppers, Mushrooms, A...   \n",
      "48616  Ricotta Cheese, Gorgonzola Piccante Cheese, Mo...   \n",
      "48617  Tomatoes, Anchovies, Green Olives, Red Onions,...   \n",
      "48618  Tomatoes, Red Peppers, Jalapeno Peppers, Red O...   \n",
      "48619  Barbecued Chicken, Red Peppers, Green Peppers,...   \n",
      "\n",
      "                       pizza_name  \n",
      "0              The Hawaiian Pizza  \n",
      "1        The Classic Deluxe Pizza  \n",
      "2           The Five Cheese Pizza  \n",
      "3       The Italian Supreme Pizza  \n",
      "4              The Mexicana Pizza  \n",
      "...                           ...  \n",
      "48615   The Chicken Alfredo Pizza  \n",
      "48616       The Four Cheese Pizza  \n",
      "48617        The Napolitana Pizza  \n",
      "48618          The Mexicana Pizza  \n",
      "48619  The Barbecue Chicken Pizza  \n",
      "\n",
      "[48620 rows x 12 columns]>\n"
     ]
    }
   ],
   "source": [
    "print(df.describe)"
   ]
  },
  {
   "cell_type": "code",
   "execution_count": 6,
   "id": "54b7cc60",
   "metadata": {},
   "outputs": [
    {
     "name": "stdout",
     "output_type": "stream",
     "text": [
      "      pizza_category\n",
      "0            Classic\n",
      "1            Classic\n",
      "2             Veggie\n",
      "3            Supreme\n",
      "4             Veggie\n",
      "...              ...\n",
      "48615        Chicken\n",
      "48616         Veggie\n",
      "48617        Classic\n",
      "48618         Veggie\n",
      "48619        Chicken\n",
      "\n",
      "[48620 rows x 1 columns]\n"
     ]
    }
   ],
   "source": [
    "print(df.loc[:,['pizza_category']])"
   ]
  },
  {
   "cell_type": "code",
   "execution_count": null,
   "id": "f7a6e1b0",
   "metadata": {},
   "outputs": [],
   "source": []
  }
 ],
 "metadata": {
  "kernelspec": {
   "display_name": "Python 3 (ipykernel)",
   "language": "python",
   "name": "python3"
  },
  "language_info": {
   "codemirror_mode": {
    "name": "ipython",
    "version": 3
   },
   "file_extension": ".py",
   "mimetype": "text/x-python",
   "name": "python",
   "nbconvert_exporter": "python",
   "pygments_lexer": "ipython3",
   "version": "3.11.4"
  }
 },
 "nbformat": 4,
 "nbformat_minor": 5
}
